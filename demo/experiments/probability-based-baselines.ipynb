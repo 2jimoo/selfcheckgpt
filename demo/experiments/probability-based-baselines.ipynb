{
 "cells": [
  {
   "cell_type": "code",
   "execution_count": 1,
   "id": "fd24ff19",
   "metadata": {},
   "outputs": [],
   "source": [
    "import pickle\n",
    "import numpy as np\n",
    "from scipy.stats import entropy\n",
    "from tqdm import tqdm\n",
    "from datasets import load_dataset"
   ]
  },
  {
   "cell_type": "markdown",
   "id": "e863a483",
   "metadata": {},
   "source": [
    "## Reading Cached GPT-3 Outputs"
   ]
  },
  {
   "cell_type": "code",
   "execution_count": 2,
   "id": "6bad200f",
   "metadata": {},
   "outputs": [
    {
     "name": "stdout",
     "output_type": "stream",
     "text": [
      "[394, 1829, 2704, 3239, 4716, 7980, 8024, 9719, 10028, 10740, 12018, 12948, 13854, 14165, 15337, 15362, 15637, 16751, 18639, 18912, 20063, 20483, 21020, 21350, 21429, 21948, 22407, 22475, 22701, 22748, 22778, 22780, 23297, 23680, 24695, 25585, 25678, 28103, 28572, 29397, 29703, 31676, 32313, 33007, 33117, 34231, 34892, 35880, 35884, 36388, 37096, 37972, 37992, 39945, 40317, 40445, 40518, 40559, 41918, 43863, 43944, 45696, 46523, 50200, 50586, 51311, 51500, 53531, 55347, 55551, 55672, 56337, 57088, 57109, 57341, 57415, 57437, 57533, 57740, 59798, 61460, 62464, 63257, 65678, 65695, 65811, 66425, 66940, 67253, 67982, 68722, 69787, 70485, 70595, 70625, 70696, 70846, 71127, 71565, 72052]\n"
     ]
    }
   ],
   "source": [
    "# ID_PATH = indices in WikiBio of the evaluated examples\n",
    "id_path = \"/home/pm574/rds/hpc-work/self-consistency/cache/top5_seed25_100.txt\"\n",
    "with open(id_path, 'r') as f:\n",
    "    id_lines = f.readlines()\n",
    "ids = [int(i.strip()) for i in id_lines]\n",
    "print(ids)"
   ]
  },
  {
   "cell_type": "code",
   "execution_count": 3,
   "id": "4bb0b331",
   "metadata": {},
   "outputs": [],
   "source": [
    "# GPT-3's reponse\n",
    "# response = openai.Completion.create(\n",
    "#     model=\"text-davinci-003\",\n",
    "#     prompt=f\"This is a passage from Wikipedia about {context}:\\n\\n\",\n",
    "#     temperature=temperature, # 0.0 = deterministic\n",
    "#     max_tokens=max_length,\n",
    "#     logprobs=logprobs,\n",
    "# )\n",
    "# type(response.choices[0].text)     => str\n",
    "# type(response.choices[0].logprobs) => openai.openai_object.OpenAIObject\n",
    "\n",
    "responses = {}\n",
    "for idx in ids:\n",
    "    path = f\"/home/pm574/rds/hpc-work/self-consistency/llm_outputs/passage_top5_seed25_100/gpt3_davinci_003_FEB15_v1_logprob/{idx}.bin\"\n",
    "    with open(path, \"rb\") as f:\n",
    "        response = pickle.load(f)\n",
    "    responses[idx] = response"
   ]
  },
  {
   "cell_type": "markdown",
   "id": "ddca8ce2",
   "metadata": {},
   "source": [
    "## load `wiki_bio_gpt3_hallucination` data"
   ]
  },
  {
   "cell_type": "code",
   "execution_count": 4,
   "id": "452bb95c",
   "metadata": {
    "scrolled": true
   },
   "outputs": [
    {
     "name": "stderr",
     "output_type": "stream",
     "text": [
      "Using custom data configuration potsawee--wiki_bio_gpt3_hallucination-e8e8a8d1fbf50281\n",
      "Found cached dataset json (/home/pm574/rds/hpc-work/downloads/hf_datasets/potsawee___json/potsawee--wiki_bio_gpt3_hallucination-e8e8a8d1fbf50281/0.0.0/0f7e3662623656454fcd2b650f34e886a7db4b9104504885bd462096cc7a9f51)\n"
     ]
    },
    {
     "data": {
      "application/vnd.jupyter.widget-view+json": {
       "model_id": "35e197e161dd49729d96d7e9cf5e16a7",
       "version_major": 2,
       "version_minor": 0
      },
      "text/plain": [
       "  0%|          | 0/1 [00:00<?, ?it/s]"
      ]
     },
     "metadata": {},
     "output_type": "display_data"
    }
   ],
   "source": [
    "dataset = load_dataset(\"potsawee/wiki_bio_gpt3_hallucination\")\n",
    "dataset = dataset['train']"
   ]
  },
  {
   "cell_type": "code",
   "execution_count": 5,
   "id": "e3a5cfce",
   "metadata": {},
   "outputs": [],
   "source": [
    "label_mapping = {\n",
    "    'accurate': 0.0,\n",
    "    'minor_inaccurate': 0.5,\n",
    "    'major_inaccurate': 1.0,\n",
    "}"
   ]
  },
  {
   "cell_type": "code",
   "execution_count": 6,
   "id": "2ae11066",
   "metadata": {},
   "outputs": [],
   "source": [
    "# 1 = True, 0 = Minor-False, -1 = Major-False\n",
    "human_label_detect_False   = {}\n",
    "human_label_detect_False_h = {}\n",
    "human_label_detect_True    = {}\n",
    "for i_ in range(len(dataset)):\n",
    "    dataset_i = dataset[i_]\n",
    "    idx = dataset_i['wiki_bio_test_idx']\n",
    "    raw_label = np.array([label_mapping[x] for x in dataset_i['annotation']])\n",
    "    human_label_detect_False[idx] = (raw_label > 0.499).astype(np.int32).tolist()\n",
    "    human_label_detect_True[idx]  = (raw_label < 0.499).astype(np.int32).tolist()\n",
    "    average_score = np.mean(raw_label)\n",
    "    if average_score <= 0.75:\n",
    "        human_label_detect_False_h[idx] = (raw_label > 0.499).astype(np.int32).tolist()"
   ]
  },
  {
   "cell_type": "code",
   "execution_count": 7,
   "id": "1ba31d5b",
   "metadata": {},
   "outputs": [
    {
     "data": {
      "text/plain": [
       "(65, 65, 41)"
      ]
     },
     "execution_count": 7,
     "metadata": {},
     "output_type": "execute_result"
    }
   ],
   "source": [
    "len(human_label_detect_False), len(human_label_detect_True), len(human_label_detect_False_h)"
   ]
  },
  {
   "cell_type": "markdown",
   "id": "d6414d0e",
   "metadata": {},
   "source": [
    "# Experimental Setup"
   ]
  },
  {
   "cell_type": "code",
   "execution_count": 8,
   "id": "77dc4e8a",
   "metadata": {},
   "outputs": [],
   "source": [
    "def unroll_pred(scores, indices):\n",
    "    unrolled = []\n",
    "    for idx in indices:\n",
    "        unrolled.extend(scores[idx])\n",
    "    return unrolled"
   ]
  },
  {
   "cell_type": "code",
   "execution_count": 9,
   "id": "8882add7",
   "metadata": {},
   "outputs": [],
   "source": [
    "def get_PR_with_human_labels(preds, human_labels, pos_label=1, oneminus_pred=False):\n",
    "    indices = [k for k in human_labels.keys()]\n",
    "    unroll_preds = unroll_pred(preds, indices)\n",
    "    if oneminus_pred:\n",
    "        unroll_preds = [1.0-x for x in unroll_preds]\n",
    "    unroll_labels = unroll_pred(human_labels, indices)\n",
    "    assert len(unroll_preds) == len(unroll_labels)\n",
    "    print(\"len:\", len(unroll_preds))\n",
    "    P, R, thre = precision_recall_curve(unroll_labels, unroll_preds, pos_label=pos_label)\n",
    "    return P, R"
   ]
  },
  {
   "cell_type": "code",
   "execution_count": 10,
   "id": "ed1d5662",
   "metadata": {},
   "outputs": [],
   "source": [
    "def print_AUC(P, R):\n",
    "    print(\"AUC: {:.2f}\".format(auc(R, P)*100))"
   ]
  },
  {
   "cell_type": "code",
   "execution_count": 11,
   "id": "becd0b2b",
   "metadata": {},
   "outputs": [],
   "source": [
    "baseline1_scores = {} # average_logprob\n",
    "baseline2_scores = {} # lowest_logprob\n",
    "baseline3_scores = {} # average_ppl5\n",
    "baseline4_scores = {} # highest_ppl5"
   ]
  },
  {
   "cell_type": "code",
   "execution_count": 12,
   "id": "726b30b5",
   "metadata": {},
   "outputs": [
    {
     "name": "stderr",
     "output_type": "stream",
     "text": [
      "100%|███████████████████████████████████████████████████████████████████████████████████████████████████████| 65/65 [00:00<00:00, 184.76it/s]\n"
     ]
    }
   ],
   "source": [
    "for i_ in tqdm(range(len(dataset))):\n",
    "    dataset_i = dataset[i_]\n",
    "    idx = dataset_i['wiki_bio_test_idx']\n",
    "    sentences = dataset_i['gpt3_sentences']\n",
    "    num_sentences = len(sentences)\n",
    "    \n",
    "    # from the cache\n",
    "    passage = responses[idx].choices[0].text\n",
    "    tokens = responses[idx].choices[0].logprobs.tokens\n",
    "    token_logprobs = responses[idx].choices[0].logprobs.token_logprobs\n",
    "    top_logprobs = responses[idx].choices[0].logprobs.top_logprobs\n",
    "    \n",
    "    average_logprob_sent_level = [None for _ in range(num_sentences)]\n",
    "    lowest_logprob_sent_level = [None for _ in range(num_sentences)]\n",
    "    average_ppl5_sent_level = [None for _ in range(num_sentences)]\n",
    "    highest_ppl5_sent_level = [None for _ in range(num_sentences)]\n",
    "        \n",
    "    for sent_i, sentence in enumerate(sentences):\n",
    "        # sentence exist in the passage, so we need to find where it is [i1, i2]\n",
    "        xarr = [i for i in range(len(tokens))]\n",
    "        for i1 in xarr:\n",
    "            mystring = \"\".join(tokens[i1:])\n",
    "            if sentence not in mystring:\n",
    "                break\n",
    "        i1 = i1 - 1\n",
    "        for i2 in xarr[::-1]:\n",
    "            mystring = \"\".join(tokens[i1:i2+1])\n",
    "            if sentence not in mystring:\n",
    "                break\n",
    "        i2 = i2 + 1\n",
    "        mystring = \"\".join(tokens[i1:i2+1])\n",
    "        average_logprob = np.mean(token_logprobs[i1:i2+1])\n",
    "        lowest_logprob  = np.min(token_logprobs[i1:i2+1])\n",
    "        ppl5s = []\n",
    "        for top5_tokens in top_logprobs[i1:i2+1]:\n",
    "            logprob_of_top5_tokens = [x[1] for x in list(top5_tokens.items())]\n",
    "            logprob_of_top5_tokens = np.array(logprob_of_top5_tokens)\n",
    "            prob_of_top5_tokens = np.exp(logprob_of_top5_tokens)\n",
    "            total_prob_of_top5 = prob_of_top5_tokens.sum()\n",
    "            normalized_prob = prob_of_top5_tokens / total_prob_of_top5\n",
    "            ppl5 = 2**(entropy(normalized_prob, base=2))\n",
    "            ppl5s.append(ppl5)\n",
    "        average_ppl5 = np.mean(ppl5s)\n",
    "        highest_ppl5 = np.max(ppl5s)\n",
    "\n",
    "        average_logprob_sent_level[sent_i] = average_logprob\n",
    "        lowest_logprob_sent_level[sent_i] = lowest_logprob\n",
    "        average_ppl5_sent_level[sent_i] = average_ppl5\n",
    "        highest_ppl5_sent_level[sent_i] = highest_ppl5\n",
    "\n",
    "    baseline1_scores[idx] = average_logprob_sent_level\n",
    "    baseline2_scores[idx] = average_ppl5_sent_level\n",
    "    baseline3_scores[idx] = lowest_logprob_sent_level\n",
    "    baseline4_scores[idx] = highest_ppl5_sent_level"
   ]
  },
  {
   "cell_type": "markdown",
   "id": "f205c702",
   "metadata": {},
   "source": [
    "## Experimet1: Detecting False"
   ]
  },
  {
   "cell_type": "code",
   "execution_count": 13,
   "id": "935890c4",
   "metadata": {},
   "outputs": [],
   "source": [
    "from sklearn.metrics import precision_recall_curve, auc\n",
    "import matplotlib.pyplot as plt"
   ]
  },
  {
   "cell_type": "code",
   "execution_count": 14,
   "id": "af27f9e3",
   "metadata": {},
   "outputs": [
    {
     "name": "stdout",
     "output_type": "stream",
     "text": [
      "len: 526\n",
      "len: 526\n",
      "len: 526\n",
      "len: 526\n",
      "-----------------------\n",
      "Baseline1: Avg(LogProb)\n",
      "AUC: 83.67\n",
      "-----------------------\n",
      "Baseline2: Avg(PPL)\n",
      "AUC: 82.02\n",
      "-----------------------\n",
      "Baseline3: Lowest(LogProb)\n",
      "AUC: 86.16\n",
      "-----------------------\n",
      "Baseline4: Highest(PPL)\n",
      "AUC: 83.82\n"
     ]
    }
   ],
   "source": [
    "# with human label, Detecting False\n",
    "Pb1, Rb1 = get_PR_with_human_labels(baseline1_scores, human_label_detect_False, pos_label=1, oneminus_pred=True)\n",
    "Pb2, Rb2 = get_PR_with_human_labels(baseline2_scores, human_label_detect_False, pos_label=1)\n",
    "Pb3, Rb3 = get_PR_with_human_labels(baseline3_scores, human_label_detect_False, pos_label=1, oneminus_pred=True)\n",
    "Pb4, Rb4 = get_PR_with_human_labels(baseline4_scores, human_label_detect_False, pos_label=1)\n",
    "print(\"-----------------------\")\n",
    "print(\"Baseline1: Avg(LogProb)\")\n",
    "print_AUC(Pb1, Rb1)\n",
    "print(\"-----------------------\")\n",
    "print(\"Baseline2: Avg(PPL)\")\n",
    "print_AUC(Pb2, Rb2)\n",
    "print(\"-----------------------\")\n",
    "print(\"Baseline3: Lowest(LogProb)\")\n",
    "print_AUC(Pb3, Rb3)\n",
    "print(\"-----------------------\")\n",
    "print(\"Baseline4: Highest(PPL)\")\n",
    "print_AUC(Pb4, Rb4)"
   ]
  },
  {
   "cell_type": "code",
   "execution_count": 15,
   "id": "04173dcb",
   "metadata": {},
   "outputs": [
    {
     "data": {
      "text/plain": [
       "0.7566539923954373"
      ]
     },
     "execution_count": 15,
     "metadata": {},
     "output_type": "execute_result"
    }
   ],
   "source": [
    "arr = []\n",
    "for v in human_label_detect_False.values():\n",
    "    arr.extend(v)\n",
    "random_baseline = np.mean(arr)\n",
    "random_baseline"
   ]
  },
  {
   "cell_type": "code",
   "execution_count": 16,
   "id": "021d80df",
   "metadata": {},
   "outputs": [
    {
     "data": {
      "text/plain": [
       "Text(0.5, 0, 'Recall')"
      ]
     },
     "execution_count": 16,
     "metadata": {},
     "output_type": "execute_result"
    },
    {
     "data": {
      "image/png": "[encoded data removed]",
      "text/plain": [
       "<Figure size 396x324 with 1 Axes>"
      ]
     },
     "metadata": {
      "needs_background": "light"
     },
     "output_type": "display_data"
    }
   ],
   "source": [
    "# with human label, Detecting Non-factual\n",
    "plt.figure(figsize=(5.5, 4.5))\n",
    "plt.hlines(y=random_baseline, xmin=0, xmax=1.0, color='grey', linestyles='dotted', label='Random') \n",
    "plt.plot(Rb1, Pb1, '-', label='Avg-LogProb')\n",
    "plt.plot(Rb2, Pb2, '-', label='Avg-PPL')\n",
    "plt.plot(Rb3, Pb3, '-', label='Max(-logP)')\n",
    "plt.plot(Rb4, Pb4, '-', label='Max(PPL)')\n",
    "plt.legend()\n",
    "plt.ylabel(\"Precision\")\n",
    "plt.xlabel(\"Recall\")"
   ]
  },
  {
   "cell_type": "markdown",
   "id": "263cab97",
   "metadata": {},
   "source": [
    "## Experiment2: Detect False* (harder/less-trivial)"
   ]
  },
  {
   "cell_type": "code",
   "execution_count": 17,
   "id": "da8388a1",
   "metadata": {},
   "outputs": [
    {
     "name": "stdout",
     "output_type": "stream",
     "text": [
      "len: 322\n",
      "len: 322\n",
      "len: 322\n",
      "len: 322\n",
      "-----------------------\n",
      "Baseline1: Avg(LogProb)\n",
      "AUC: 70.63\n",
      "-----------------------\n",
      "Baseline2: Avg(PPL)\n",
      "AUC: 67.70\n",
      "-----------------------\n",
      "Baseline3: Lowest(LogProb)\n",
      "AUC: 76.51\n",
      "-----------------------\n",
      "Baseline4: Highest(PPL)\n",
      "AUC: 72.15\n"
     ]
    }
   ],
   "source": [
    "# with human label, Detecting False\n",
    "Pb1, Rb1 = get_PR_with_human_labels(baseline1_scores, human_label_detect_False_h, pos_label=1, oneminus_pred=True)\n",
    "Pb2, Rb2 = get_PR_with_human_labels(baseline2_scores, human_label_detect_False_h, pos_label=1)\n",
    "Pb3, Rb3 = get_PR_with_human_labels(baseline3_scores, human_label_detect_False_h, pos_label=1, oneminus_pred=True)\n",
    "Pb4, Rb4 = get_PR_with_human_labels(baseline4_scores, human_label_detect_False_h, pos_label=1)\n",
    "print(\"-----------------------\")\n",
    "print(\"Baseline1: Avg(LogProb)\")\n",
    "print_AUC(Pb1, Rb1)\n",
    "print(\"-----------------------\")\n",
    "print(\"Baseline2: Avg(PPL)\")\n",
    "print_AUC(Pb2, Rb2)\n",
    "print(\"-----------------------\")\n",
    "print(\"Baseline3: Lowest(LogProb)\")\n",
    "print_AUC(Pb3, Rb3)\n",
    "print(\"-----------------------\")\n",
    "print(\"Baseline4: Highest(PPL)\")\n",
    "print_AUC(Pb4, Rb4)"
   ]
  },
  {
   "cell_type": "code",
   "execution_count": 18,
   "id": "63ae5415",
   "metadata": {},
   "outputs": [
    {
     "data": {
      "text/plain": [
       "0.6024844720496895"
      ]
     },
     "execution_count": 18,
     "metadata": {},
     "output_type": "execute_result"
    }
   ],
   "source": [
    "arr = []\n",
    "for v in human_label_detect_False_h.values():\n",
    "    arr.extend(v)\n",
    "random_baseline = np.mean(arr)\n",
    "random_baseline"
   ]
  },
  {
   "cell_type": "code",
   "execution_count": 19,
   "id": "7e6e01d9",
   "metadata": {},
   "outputs": [
    {
     "data": {
      "text/plain": [
       "Text(0.5, 0, 'Recall')"
      ]
     },
     "execution_count": 19,
     "metadata": {},
     "output_type": "execute_result"
    },
    {
     "data": {
      "image/png": "[encoded data removed]",
      "text/plain": [
       "<Figure size 396x324 with 1 Axes>"
      ]
     },
     "metadata": {
      "needs_background": "light"
     },
     "output_type": "display_data"
    }
   ],
   "source": [
    "# with human label, Detecting Non-factual*\n",
    "plt.figure(figsize=(5.5, 4.5))\n",
    "plt.hlines(y=random_baseline, xmin=0, xmax=1.0, color='grey', linestyles='dotted', label='Random') \n",
    "plt.plot(Rb1, Pb1, '-', label='Avg-LogProb')\n",
    "plt.plot(Rb2, Pb2, '-', label='Avg-PPL')\n",
    "plt.plot(Rb3, Pb3, '-', label='Max(-logP)')\n",
    "plt.plot(Rb4, Pb4, '-', label='Max(PPL)')\n",
    "plt.legend()\n",
    "plt.ylabel(\"Precision\")\n",
    "plt.xlabel(\"Recall\")"
   ]
  },
  {
   "cell_type": "markdown",
   "id": "4d660a81",
   "metadata": {},
   "source": [
    "## Experiment3: Detecting True"
   ]
  },
  {
   "cell_type": "code",
   "execution_count": 20,
   "id": "9fd5a85b",
   "metadata": {},
   "outputs": [
    {
     "name": "stdout",
     "output_type": "stream",
     "text": [
      "len: 526\n",
      "len: 526\n",
      "len: 526\n",
      "len: 526\n",
      "-----------------------\n",
      "Baseline1: Avg(LogProb)\n",
      "AUC: 48.67\n",
      "-----------------------\n",
      "Baseline2: Avg(PPL)\n",
      "AUC: 48.45\n",
      "-----------------------\n",
      "Baseline3: Lowest(LogProb)\n",
      "AUC: 44.22\n",
      "-----------------------\n",
      "Baseline4: Highest(PPL)\n",
      "AUC: 45.26\n"
     ]
    }
   ],
   "source": [
    "# with human label, Detecting True\n",
    "Pb1, Rb1 = get_PR_with_human_labels(baseline1_scores, human_label_detect_True, pos_label=1, oneminus_pred=False)\n",
    "Pb2, Rb2 = get_PR_with_human_labels(baseline2_scores, human_label_detect_True, pos_label=1, oneminus_pred=True)\n",
    "Pb3, Rb3 = get_PR_with_human_labels(baseline3_scores, human_label_detect_True, pos_label=1, oneminus_pred=False)\n",
    "Pb4, Rb4 = get_PR_with_human_labels(baseline4_scores, human_label_detect_True, pos_label=1, oneminus_pred=True)\n",
    "print(\"-----------------------\")\n",
    "print(\"Baseline1: Avg(LogProb)\")\n",
    "print_AUC(Pb1, Rb1)\n",
    "print(\"-----------------------\")\n",
    "print(\"Baseline2: Avg(PPL)\")\n",
    "print_AUC(Pb2, Rb2)\n",
    "print(\"-----------------------\")\n",
    "print(\"Baseline3: Lowest(LogProb)\")\n",
    "print_AUC(Pb3, Rb3)\n",
    "print(\"-----------------------\")\n",
    "print(\"Baseline4: Highest(PPL)\")\n",
    "print_AUC(Pb4, Rb4)"
   ]
  },
  {
   "cell_type": "code",
   "execution_count": 21,
   "id": "5de7c978",
   "metadata": {},
   "outputs": [
    {
     "data": {
      "text/plain": [
       "0.24334600760456274"
      ]
     },
     "execution_count": 21,
     "metadata": {},
     "output_type": "execute_result"
    }
   ],
   "source": [
    "arr = []\n",
    "for v in human_label_detect_True.values():\n",
    "    arr.extend(v)\n",
    "random_baseline = np.mean(arr)\n",
    "random_baseline"
   ]
  },
  {
   "cell_type": "code",
   "execution_count": 22,
   "id": "709d02e1",
   "metadata": {},
   "outputs": [
    {
     "data": {
      "text/plain": [
       "Text(0.5, 0, 'Recall')"
      ]
     },
     "execution_count": 22,
     "metadata": {},
     "output_type": "execute_result"
    },
    {
     "data": {
      "image/png": "[encoded data removed]",
      "text/plain": [
       "<Figure size 396x324 with 1 Axes>"
      ]
     },
     "metadata": {
      "needs_background": "light"
     },
     "output_type": "display_data"
    }
   ],
   "source": [
    "# with human label, Detecting Non-factual*\n",
    "plt.figure(figsize=(5.5, 4.5))\n",
    "plt.hlines(y=random_baseline, xmin=0, xmax=1.0, color='grey', linestyles='dotted', label='Random') \n",
    "plt.plot(Rb1, Pb1, '-', label='Avg-LogProb')\n",
    "plt.plot(Rb2, Pb2, '-', label='Avg-PPL')\n",
    "plt.plot(Rb3, Pb3, '-', label='Max(-logP)')\n",
    "plt.plot(Rb4, Pb4, '-', label='Max(PPL)')\n",
    "plt.legend()\n",
    "plt.ylabel(\"Precision\")\n",
    "plt.xlabel(\"Recall\")"
   ]
  }
 ],
 "metadata": {
  "kernelspec": {
   "display_name": "Python 3 (ipykernel)",
   "language": "python",
   "name": "python3"
  },
  "language_info": {
   "codemirror_mode": {
    "name": "ipython",
    "version": 3
   },
   "file_extension": ".py",
   "mimetype": "text/x-python",
   "name": "python",
   "nbconvert_exporter": "python",
   "pygments_lexer": "ipython3",
   "version": "3.8.13"
  }
 },
 "nbformat": 4,
 "nbformat_minor": 5
}
